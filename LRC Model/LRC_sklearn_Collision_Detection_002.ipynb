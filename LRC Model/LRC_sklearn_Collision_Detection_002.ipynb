{
 "cells": [
  {
   "cell_type": "code",
   "execution_count": 66,
   "metadata": {
    "collapsed": false
   },
   "outputs": [
    {
     "data": {
      "text/html": [
       "<div>\n",
       "<style scoped>\n",
       "    .dataframe tbody tr th:only-of-type {\n",
       "        vertical-align: middle;\n",
       "    }\n",
       "\n",
       "    .dataframe tbody tr th {\n",
       "        vertical-align: top;\n",
       "    }\n",
       "\n",
       "    .dataframe thead th {\n",
       "        text-align: right;\n",
       "    }\n",
       "</style>\n",
       "<table border=\"1\" class=\"dataframe\">\n",
       "  <thead>\n",
       "    <tr style=\"text-align: right;\">\n",
       "      <th></th>\n",
       "      <th>sample_no</th>\n",
       "      <th>current_a</th>\n",
       "      <th>voltage_v</th>\n",
       "      <th>position_deg</th>\n",
       "      <th>velocity_degs</th>\n",
       "      <th>setpoint_deg</th>\n",
       "      <th>torqsens_nm</th>\n",
       "      <th>disturbance_nm</th>\n",
       "      <th>collision</th>\n",
       "      <th>current_a_dev</th>\n",
       "      <th>...</th>\n",
       "      <th>velocity_degs_dev</th>\n",
       "      <th>setpoint_deg_dev</th>\n",
       "      <th>torqsens_nm_dev</th>\n",
       "      <th>disturbance_nm_dev</th>\n",
       "      <th>torq_diff_nm</th>\n",
       "      <th>curr_diff_a</th>\n",
       "      <th>volt_diff_v</th>\n",
       "      <th>pos_diff_deg</th>\n",
       "      <th>vel_diff_deg</th>\n",
       "      <th>setp_diff_deg</th>\n",
       "    </tr>\n",
       "  </thead>\n",
       "  <tbody>\n",
       "    <tr>\n",
       "      <th>1</th>\n",
       "      <td>1.0</td>\n",
       "      <td>0.19001</td>\n",
       "      <td>11.981</td>\n",
       "      <td>-15.778</td>\n",
       "      <td>75.379</td>\n",
       "      <td>-120</td>\n",
       "      <td>0.79078</td>\n",
       "      <td>0.0</td>\n",
       "      <td>-1</td>\n",
       "      <td>-0.000793</td>\n",
       "      <td>...</td>\n",
       "      <td>0.113500</td>\n",
       "      <td>0</td>\n",
       "      <td>-0.012404</td>\n",
       "      <td>0.0</td>\n",
       "      <td>0.01234</td>\n",
       "      <td>0.00077</td>\n",
       "      <td>0.000</td>\n",
       "      <td>-0.755</td>\n",
       "      <td>-0.110</td>\n",
       "      <td>0</td>\n",
       "    </tr>\n",
       "    <tr>\n",
       "      <th>2</th>\n",
       "      <td>1.0</td>\n",
       "      <td>0.19079</td>\n",
       "      <td>11.981</td>\n",
       "      <td>-16.531</td>\n",
       "      <td>75.267</td>\n",
       "      <td>-120</td>\n",
       "      <td>0.85160</td>\n",
       "      <td>0.0</td>\n",
       "      <td>-1</td>\n",
       "      <td>-0.000011</td>\n",
       "      <td>...</td>\n",
       "      <td>0.001518</td>\n",
       "      <td>0</td>\n",
       "      <td>0.048416</td>\n",
       "      <td>0.0</td>\n",
       "      <td>0.06082</td>\n",
       "      <td>0.00078</td>\n",
       "      <td>0.000</td>\n",
       "      <td>-0.753</td>\n",
       "      <td>-0.112</td>\n",
       "      <td>0</td>\n",
       "    </tr>\n",
       "    <tr>\n",
       "      <th>3</th>\n",
       "      <td>1.0</td>\n",
       "      <td>0.19159</td>\n",
       "      <td>11.981</td>\n",
       "      <td>-17.283</td>\n",
       "      <td>75.153</td>\n",
       "      <td>-120</td>\n",
       "      <td>0.80301</td>\n",
       "      <td>0.0</td>\n",
       "      <td>-1</td>\n",
       "      <td>0.000782</td>\n",
       "      <td>...</td>\n",
       "      <td>-0.111980</td>\n",
       "      <td>0</td>\n",
       "      <td>-0.000174</td>\n",
       "      <td>0.0</td>\n",
       "      <td>-0.04859</td>\n",
       "      <td>0.00080</td>\n",
       "      <td>0.000</td>\n",
       "      <td>-0.752</td>\n",
       "      <td>-0.114</td>\n",
       "      <td>0</td>\n",
       "    </tr>\n",
       "    <tr>\n",
       "      <th>4</th>\n",
       "      <td>1.0</td>\n",
       "      <td>0.19239</td>\n",
       "      <td>11.981</td>\n",
       "      <td>-18.034</td>\n",
       "      <td>75.038</td>\n",
       "      <td>-120</td>\n",
       "      <td>0.79209</td>\n",
       "      <td>0.0</td>\n",
       "      <td>-1</td>\n",
       "      <td>0.001586</td>\n",
       "      <td>...</td>\n",
       "      <td>-0.226990</td>\n",
       "      <td>0</td>\n",
       "      <td>-0.011094</td>\n",
       "      <td>0.0</td>\n",
       "      <td>-0.01092</td>\n",
       "      <td>0.00080</td>\n",
       "      <td>0.000</td>\n",
       "      <td>-0.751</td>\n",
       "      <td>-0.115</td>\n",
       "      <td>0</td>\n",
       "    </tr>\n",
       "    <tr>\n",
       "      <th>5</th>\n",
       "      <td>2.0</td>\n",
       "      <td>0.19320</td>\n",
       "      <td>11.981</td>\n",
       "      <td>-18.784</td>\n",
       "      <td>74.922</td>\n",
       "      <td>-120</td>\n",
       "      <td>0.82992</td>\n",
       "      <td>0.0</td>\n",
       "      <td>-1</td>\n",
       "      <td>-0.001669</td>\n",
       "      <td>...</td>\n",
       "      <td>0.238810</td>\n",
       "      <td>0</td>\n",
       "      <td>-0.038575</td>\n",
       "      <td>0.0</td>\n",
       "      <td>0.03783</td>\n",
       "      <td>0.00081</td>\n",
       "      <td>0.000</td>\n",
       "      <td>-0.750</td>\n",
       "      <td>-0.116</td>\n",
       "      <td>0</td>\n",
       "    </tr>\n",
       "    <tr>\n",
       "      <th>6</th>\n",
       "      <td>2.0</td>\n",
       "      <td>0.19403</td>\n",
       "      <td>11.981</td>\n",
       "      <td>-19.532</td>\n",
       "      <td>74.804</td>\n",
       "      <td>-120</td>\n",
       "      <td>0.88061</td>\n",
       "      <td>0.0</td>\n",
       "      <td>-1</td>\n",
       "      <td>-0.000845</td>\n",
       "      <td>...</td>\n",
       "      <td>0.120850</td>\n",
       "      <td>0</td>\n",
       "      <td>0.012122</td>\n",
       "      <td>0.0</td>\n",
       "      <td>0.05069</td>\n",
       "      <td>0.00083</td>\n",
       "      <td>0.000</td>\n",
       "      <td>-0.748</td>\n",
       "      <td>-0.118</td>\n",
       "      <td>0</td>\n",
       "    </tr>\n",
       "    <tr>\n",
       "      <th>7</th>\n",
       "      <td>2.0</td>\n",
       "      <td>0.19486</td>\n",
       "      <td>11.981</td>\n",
       "      <td>-20.280</td>\n",
       "      <td>74.684</td>\n",
       "      <td>-120</td>\n",
       "      <td>0.86347</td>\n",
       "      <td>0.0</td>\n",
       "      <td>-1</td>\n",
       "      <td>-0.000010</td>\n",
       "      <td>...</td>\n",
       "      <td>0.001436</td>\n",
       "      <td>0</td>\n",
       "      <td>-0.005018</td>\n",
       "      <td>0.0</td>\n",
       "      <td>-0.01714</td>\n",
       "      <td>0.00083</td>\n",
       "      <td>0.000</td>\n",
       "      <td>-0.748</td>\n",
       "      <td>-0.120</td>\n",
       "      <td>0</td>\n",
       "    </tr>\n",
       "    <tr>\n",
       "      <th>8</th>\n",
       "      <td>2.0</td>\n",
       "      <td>0.19571</td>\n",
       "      <td>11.980</td>\n",
       "      <td>-21.026</td>\n",
       "      <td>74.564</td>\n",
       "      <td>-120</td>\n",
       "      <td>0.86352</td>\n",
       "      <td>0.0</td>\n",
       "      <td>-1</td>\n",
       "      <td>0.000835</td>\n",
       "      <td>...</td>\n",
       "      <td>-0.119410</td>\n",
       "      <td>0</td>\n",
       "      <td>-0.004974</td>\n",
       "      <td>0.0</td>\n",
       "      <td>0.00005</td>\n",
       "      <td>0.00085</td>\n",
       "      <td>-0.001</td>\n",
       "      <td>-0.746</td>\n",
       "      <td>-0.120</td>\n",
       "      <td>0</td>\n",
       "    </tr>\n",
       "    <tr>\n",
       "      <th>9</th>\n",
       "      <td>2.0</td>\n",
       "      <td>0.19656</td>\n",
       "      <td>11.980</td>\n",
       "      <td>-21.771</td>\n",
       "      <td>74.441</td>\n",
       "      <td>-120</td>\n",
       "      <td>0.90494</td>\n",
       "      <td>0.0</td>\n",
       "      <td>-1</td>\n",
       "      <td>0.001689</td>\n",
       "      <td>...</td>\n",
       "      <td>-0.241680</td>\n",
       "      <td>0</td>\n",
       "      <td>0.036445</td>\n",
       "      <td>0.0</td>\n",
       "      <td>0.04142</td>\n",
       "      <td>0.00085</td>\n",
       "      <td>0.000</td>\n",
       "      <td>-0.745</td>\n",
       "      <td>-0.123</td>\n",
       "      <td>0</td>\n",
       "    </tr>\n",
       "  </tbody>\n",
       "</table>\n",
       "<p>9 rows × 22 columns</p>\n",
       "</div>"
      ],
      "text/plain": [
       "   sample_no  current_a  voltage_v  position_deg  velocity_degs  setpoint_deg  \\\n",
       "1        1.0    0.19001     11.981       -15.778         75.379          -120   \n",
       "2        1.0    0.19079     11.981       -16.531         75.267          -120   \n",
       "3        1.0    0.19159     11.981       -17.283         75.153          -120   \n",
       "4        1.0    0.19239     11.981       -18.034         75.038          -120   \n",
       "5        2.0    0.19320     11.981       -18.784         74.922          -120   \n",
       "6        2.0    0.19403     11.981       -19.532         74.804          -120   \n",
       "7        2.0    0.19486     11.981       -20.280         74.684          -120   \n",
       "8        2.0    0.19571     11.980       -21.026         74.564          -120   \n",
       "9        2.0    0.19656     11.980       -21.771         74.441          -120   \n",
       "\n",
       "   torqsens_nm  disturbance_nm  collision  current_a_dev      ...        \\\n",
       "1      0.79078             0.0         -1      -0.000793      ...         \n",
       "2      0.85160             0.0         -1      -0.000011      ...         \n",
       "3      0.80301             0.0         -1       0.000782      ...         \n",
       "4      0.79209             0.0         -1       0.001586      ...         \n",
       "5      0.82992             0.0         -1      -0.001669      ...         \n",
       "6      0.88061             0.0         -1      -0.000845      ...         \n",
       "7      0.86347             0.0         -1      -0.000010      ...         \n",
       "8      0.86352             0.0         -1       0.000835      ...         \n",
       "9      0.90494             0.0         -1       0.001689      ...         \n",
       "\n",
       "   velocity_degs_dev  setpoint_deg_dev  torqsens_nm_dev  disturbance_nm_dev  \\\n",
       "1           0.113500                 0        -0.012404                 0.0   \n",
       "2           0.001518                 0         0.048416                 0.0   \n",
       "3          -0.111980                 0        -0.000174                 0.0   \n",
       "4          -0.226990                 0        -0.011094                 0.0   \n",
       "5           0.238810                 0        -0.038575                 0.0   \n",
       "6           0.120850                 0         0.012122                 0.0   \n",
       "7           0.001436                 0        -0.005018                 0.0   \n",
       "8          -0.119410                 0        -0.004974                 0.0   \n",
       "9          -0.241680                 0         0.036445                 0.0   \n",
       "\n",
       "   torq_diff_nm  curr_diff_a  volt_diff_v  pos_diff_deg  vel_diff_deg  \\\n",
       "1       0.01234      0.00077        0.000        -0.755        -0.110   \n",
       "2       0.06082      0.00078        0.000        -0.753        -0.112   \n",
       "3      -0.04859      0.00080        0.000        -0.752        -0.114   \n",
       "4      -0.01092      0.00080        0.000        -0.751        -0.115   \n",
       "5       0.03783      0.00081        0.000        -0.750        -0.116   \n",
       "6       0.05069      0.00083        0.000        -0.748        -0.118   \n",
       "7      -0.01714      0.00083        0.000        -0.748        -0.120   \n",
       "8       0.00005      0.00085       -0.001        -0.746        -0.120   \n",
       "9       0.04142      0.00085        0.000        -0.745        -0.123   \n",
       "\n",
       "   setp_diff_deg  \n",
       "1              0  \n",
       "2              0  \n",
       "3              0  \n",
       "4              0  \n",
       "5              0  \n",
       "6              0  \n",
       "7              0  \n",
       "8              0  \n",
       "9              0  \n",
       "\n",
       "[9 rows x 22 columns]"
      ]
     },
     "execution_count": 66,
     "metadata": {},
     "output_type": "execute_result"
    }
   ],
   "source": [
    "# Load CSV using Pandas\n",
    "import pandas as pd\n",
    "import numpy as np\n",
    "import matplotlib.pyplot as plt\n",
    "filename = 'LRC_dataset_016_Feature_Engineering.csv'\n",
    "names = ['sample_no', 'current_a', 'voltage_v','position_deg','velocity_degs', 'setpoint_deg',\n",
    "         'torqsens_nm', 'disturbance_nm', 'collision', 'current_a_dev', 'voltage_v_dev',\n",
    "         'position_deg_dev', 'velocity_degs_dev', 'setpoint_deg_dev','torqsens_nm_dev',\n",
    "         'disturbance_nm_dev','torq_diff_nm', 'curr_diff_a', 'volt_diff_v', 'pos_diff_deg', 'vel_diff_deg','setp_diff_deg']\n",
    "df = pd.read_csv(filename, names=names)\n",
    "#Negatives torque data flawed; remove it\n",
    "ind_1 = df['disturbance_nm'] >= 0 \n",
    "df = df[ind_1]\n",
    "data = df\n",
    "data[1:10]"
   ]
  },
  {
   "cell_type": "code",
   "execution_count": 67,
   "metadata": {
    "collapsed": true
   },
   "outputs": [],
   "source": [
    "#Balance the dataset. Assumes that majority is -1 collision (Which is true)\n",
    "\n",
    "from sklearn.utils import resample\n",
    "\n",
    "def data_downsampling(data):\n",
    "\n",
    "    # Separate majority and minority classes\n",
    "    data_majority = data[data.collision==-1]\n",
    "    data_minority = data[data.collision==+1]\n",
    "\n",
    "\n",
    "    majority_count = data_majority.shape[0]\n",
    "    minority_count = data_minority.shape[0]\n",
    "\n",
    "    # Downsample the majority class\n",
    "    data_majority_downsampled = resample(data_majority, \n",
    "                                 replace=False,     # sample with replacement\n",
    "                                 n_samples=minority_count,    # to match minority class\n",
    "                                 random_state=123) # reproducible results\n",
    "\n",
    "    new_majority_count = data_majority_downsampled.shape[0]\n",
    " \n",
    "    # Combine the minority class with the downsampled majority class\n",
    "    data_downsampled = pd.concat([data_minority, data_majority_downsampled])\n",
    "    \n",
    "    dataset_balance = float(new_majority_count) / data_downsampled.shape[0]\n",
    "\n",
    "    print(dataset_balance)\n",
    "\n",
    "    print(type(data_downsampled))\n",
    "\n",
    "    data = data_downsampled\n",
    "\n",
    "    return data"
   ]
  },
  {
   "cell_type": "code",
   "execution_count": 68,
   "metadata": {
    "collapsed": true
   },
   "outputs": [],
   "source": [
    "#Normalization - Scales the Data Appropriately\n",
    "from sklearn.preprocessing import MinMaxScaler\n",
    "scaler = MinMaxScaler()"
   ]
  },
  {
   "cell_type": "code",
   "execution_count": 69,
   "metadata": {
    "collapsed": true
   },
   "outputs": [],
   "source": [
    "#convert the dataframe into useful arrays\n",
    "def get_panda_data(dataframe, features, label):\n",
    "    dataframe['constant'] = 1 #w0\n",
    "    features = ['constant'] + features\n",
    "    features_frame = dataframe[features]\n",
    "    feature_matrix = features_frame.as_matrix()\n",
    "    label_sarray = dataframe[label]\n",
    "    label_array = label_sarray.as_matrix()\n",
    "    return(feature_matrix, label_array)\n",
    "\n"
   ]
  },
  {
   "cell_type": "code",
   "execution_count": 70,
   "metadata": {
    "collapsed": true
   },
   "outputs": [],
   "source": [
    "from sklearn.model_selection import train_test_split\n",
    "from sklearn.linear_model import LogisticRegression\n",
    "# all parameters not specified are set to their defaults\n",
    "logisticRegr = LogisticRegression()"
   ]
  },
  {
   "cell_type": "markdown",
   "metadata": {},
   "source": [
    "Initial Model Run - Model I"
   ]
  },
  {
   "cell_type": "code",
   "execution_count": 71,
   "metadata": {
    "collapsed": false
   },
   "outputs": [
    {
     "name": "stdout",
     "output_type": "stream",
     "text": [
      "0.5\n",
      "<class 'pandas.core.frame.DataFrame'>\n",
      "[[ 1.77795056 -6.04269727  3.00815611 -5.0866612   5.52212535  1.63974572\n",
      "  -8.24394138]]\n",
      "0.6765151515151515\n"
     ]
    }
   ],
   "source": [
    "#Initial Model Run (In the Report as Model I)\n",
    "data = df\n",
    "features = ['current_a', 'voltage_v','position_deg','velocity_degs',\n",
    "          'setpoint_deg','torqsens_nm']\n",
    "\n",
    "label = 'collision'\n",
    "\n",
    "data = data_downsampling(data)\n",
    "data[features] = scaler.fit_transform(data[features])\n",
    "[feature_matrix, labels] = get_panda_data(data, features, label)\n",
    "x_train, x_test, y_train, y_test = train_test_split(feature_matrix, labels, test_size=0.20, random_state=0)\n",
    "logisticRegr.fit(x_train, y_train)\n",
    "\n",
    "# Use score method to get accuracy of model\n",
    "score = logisticRegr.score(x_test, y_test)\n",
    "print(logisticRegr.coef_)\n",
    "print(score)"
   ]
  },
  {
   "cell_type": "code",
   "execution_count": 72,
   "metadata": {
    "collapsed": false
   },
   "outputs": [
    {
     "name": "stdout",
     "output_type": "stream",
     "text": [
      "(1320,)\n",
      "(1320,)\n"
     ]
    },
    {
     "data": {
      "image/png": "[encoded data removed]",
      "text/plain": [
       "<matplotlib.figure.Figure at 0x17402f02358>"
      ]
     },
     "metadata": {},
     "output_type": "display_data"
    }
   ],
   "source": [
    "#Confusion Matrix\n",
    "import matplotlib.pyplot as plt\n",
    "import seaborn as sns\n",
    "from sklearn import metrics\n",
    "\n",
    "print(y_test.shape)\n",
    "predictions = logisticRegr.predict(x_test)\n",
    "print(predictions.shape)\n",
    "cm = metrics.confusion_matrix(y_test, predictions)\n",
    "\n",
    "plt.figure(figsize=(9,9))\n",
    "sns.heatmap(cm, annot=True, fmt=\".3f\", linewidths=.5, square = True, cmap = 'Blues_r');\n",
    "plt.ylabel('Actual label');\n",
    "plt.xlabel('Predicted label');\n",
    "all_sample_title = 'Accuracy Score: {0}'.format(score)\n",
    "plt.title(all_sample_title, size = 15);"
   ]
  },
  {
   "cell_type": "markdown",
   "metadata": {},
   "source": [
    "Feature Removal Model - Model II"
   ]
  },
  {
   "cell_type": "code",
   "execution_count": 73,
   "metadata": {
    "collapsed": false
   },
   "outputs": [
    {
     "name": "stdout",
     "output_type": "stream",
     "text": [
      "[False  True False  True  True False  True]\n"
     ]
    }
   ],
   "source": [
    "# Recursive Feature Elimination\n",
    "from sklearn.feature_selection import RFE\n",
    "\n",
    "rfe = RFE(logisticRegr, 4)\n",
    "rfe = rfe.fit(x_train, y_train)\n",
    "# summarize the selection of the attributes\n",
    "print(rfe.support_)\n",
    "\n",
    "from itertools import compress\n",
    "features_rfe = ['constant'] + features\n",
    "features_rfe = list(compress(features_rfe, rfe.support_))"
   ]
  },
  {
   "cell_type": "code",
   "execution_count": 74,
   "metadata": {
    "collapsed": false
   },
   "outputs": [
    {
     "name": "stdout",
     "output_type": "stream",
     "text": [
      "0.5\n",
      "<class 'pandas.core.frame.DataFrame'>\n",
      "[[ 1.93039645 -5.33671012 -3.94452792  7.42544907 -7.86200461]]\n",
      "0.6575757575757576\n"
     ]
    }
   ],
   "source": [
    "data_rfe = data\n",
    "data_rfe = data_downsampling(data_rfe)\n",
    "[feature_matrix_rfe, labels_rfe] = get_panda_data(data_rfe, features_rfe, label)\n",
    "x_train_rfe, x_test_rfe, y_train_rfe, y_test_rfe = train_test_split(feature_matrix_rfe, \n",
    "                                                                    labels_rfe, test_size=0.20, random_state=0)\n",
    "logisticRegr.fit(x_train_rfe, y_train_rfe)\n",
    "score = logisticRegr.score(x_test_rfe, y_test_rfe)\n",
    "print(logisticRegr.coef_)\n",
    "print(score)"
   ]
  },
  {
   "cell_type": "markdown",
   "metadata": {},
   "source": [
    "Feature Engineered Model - Model III"
   ]
  },
  {
   "cell_type": "code",
   "execution_count": 75,
   "metadata": {
    "collapsed": false,
    "scrolled": true
   },
   "outputs": [
    {
     "name": "stdout",
     "output_type": "stream",
     "text": [
      "0.5\n",
      "<class 'pandas.core.frame.DataFrame'>\n"
     ]
    }
   ],
   "source": [
    "#Addition of Engineered Features\n",
    "data_dev = df\n",
    "data_dev = data_downsampling(data_dev)\n",
    "features_scale = ['current_a', 'voltage_v','position_deg','velocity_degs', 'setpoint_deg',\n",
    "         'torqsens_nm','curr_diff_a', 'volt_diff_v', 'pos_diff_deg',\n",
    "                'vel_diff_deg','setp_diff_deg', 'torq_diff_nm']\n",
    "data_dev[features_scale] = scaler.fit_transform(data_dev[features_scale])\n",
    "features_dev = features_scale + ['disturbance_nm']\n",
    "[feature_matrix_dev, labels_dev] = get_panda_data(data_dev, features_dev, label)\n",
    "x_train_dev, x_test_dev, y_train_dev, y_test_dev = train_test_split(feature_matrix_dev,\n",
    "                                                                    labels_dev, test_size=0.20, random_state=0)"
   ]
  },
  {
   "cell_type": "code",
   "execution_count": 76,
   "metadata": {
    "collapsed": false
   },
   "outputs": [
    {
     "data": {
      "text/plain": [
       "array([0.7, 0. , 0. , ..., 0.1, 0.3, 0.5])"
      ]
     },
     "execution_count": 76,
     "metadata": {},
     "output_type": "execute_result"
    }
   ],
   "source": [
    "#drop disturbance_ref as a feature\n",
    "x_train_dev_dist = x_train_dev[:,13]\n",
    "x_test_dev_dist = x_test_dev[:,13]\n",
    "\n",
    "x_train_dev = np.delete(x_train_dev,13,1)\n",
    "x_test_dev = np.delete(x_test_dev,13,1)\n",
    "x_train_dev.shape\n",
    "x_train_dev_dist"
   ]
  },
  {
   "cell_type": "code",
   "execution_count": 77,
   "metadata": {
    "collapsed": false
   },
   "outputs": [
    {
     "name": "stdout",
     "output_type": "stream",
     "text": [
      "0.9174242424242425\n",
      "[[  2.99924364  -4.16906313   1.10742468  -3.45739975   3.76273899\n",
      "    1.44559966  -4.28061965  21.66544991  -0.72281316  -2.76057764\n",
      "   -9.78126082  -1.01470846 -15.39746186]] ['current_a', 'voltage_v', 'position_deg', 'velocity_degs', 'setpoint_deg', 'torqsens_nm', 'curr_diff_a', 'volt_diff_v', 'pos_diff_deg', 'vel_diff_deg', 'setp_diff_deg', 'torq_diff_nm', 'disturbance_nm']\n"
     ]
    }
   ],
   "source": [
    "logisticRegr.fit(x_train_dev, y_train_dev)\n",
    "score = logisticRegr.score(x_test_dev, y_test_dev)\n",
    "score_x = logisticRegr.score(x_train_dev,y_train_dev)\n",
    "print(score)\n",
    "print(logisticRegr.coef_, features_dev)"
   ]
  },
  {
   "cell_type": "code",
   "execution_count": 78,
   "metadata": {
    "collapsed": false
   },
   "outputs": [
    {
     "name": "stdout",
     "output_type": "stream",
     "text": [
      "(1320,)\n",
      "(1320,)\n"
     ]
    },
    {
     "data": {
      "image/png": "[encoded data removed]",
      "text/plain": [
       "<matplotlib.figure.Figure at 0x17402f02470>"
      ]
     },
     "metadata": {},
     "output_type": "display_data"
    }
   ],
   "source": [
    "print(y_test_dev.shape)\n",
    "predictions = logisticRegr.predict(x_test_dev)\n",
    "print(predictions.shape)\n",
    "cm1 = metrics.confusion_matrix(y_test_dev, predictions)\n",
    "\n",
    "plt.figure(figsize=(9,9))\n",
    "sns.heatmap(cm1, annot=True, fmt=\".3f\", linewidths=.5, square = True, cmap = 'Blues_r');\n",
    "plt.ylabel('Actual label');\n",
    "plt.xlabel('Predicted label');\n",
    "all_sample_title = 'Accuracy Score: {0}'.format(score)\n",
    "plt.title(all_sample_title, size = 15);"
   ]
  },
  {
   "cell_type": "code",
   "execution_count": 81,
   "metadata": {
    "collapsed": false
   },
   "outputs": [
    {
     "name": "stdout",
     "output_type": "stream",
     "text": [
      "0.9174242424242425\n",
      "[[  2.99924364  -4.16906313   1.10742468  -3.45739975   3.76273899\n",
      "    1.44559966  -4.28061965  21.66544991  -0.72281316  -2.76057764\n",
      "   -9.78126082  -1.01470846 -15.39746186]] ['current_a', 'voltage_v', 'position_deg', 'velocity_degs', 'setpoint_deg', 'torqsens_nm', 'curr_diff_a', 'volt_diff_v', 'pos_diff_deg', 'vel_diff_deg', 'setp_diff_deg', 'torq_diff_nm', 'disturbance_nm']\n"
     ]
    }
   ],
   "source": [
    "score = logisticRegr.score(x_test_dev, y_test_dev)\n",
    "score_x = logisticRegr.score(x_train_dev,y_train_dev)\n",
    "print(score)\n",
    "print(logisticRegr.coef_, features_dev)"
   ]
  },
  {
   "cell_type": "code",
   "execution_count": 82,
   "metadata": {
    "collapsed": false
   },
   "outputs": [
    {
     "name": "stdout",
     "output_type": "stream",
     "text": [
      "1.0\n"
     ]
    }
   ],
   "source": [
    "#Check Model III accuracy wst the torque magnitude\n",
    "ind_torq = x_test_dev_dist == 0.3\n",
    "torq_x_test = x_test_dev[ind_torq]\n",
    "torq_y_test = y_test_dev[ind_torq]\n",
    "score_torq = logisticRegr.score(torq_x_test,torq_y_test)\n",
    "print(score_torq)"
   ]
  },
  {
   "cell_type": "code",
   "execution_count": null,
   "metadata": {
    "collapsed": true
   },
   "outputs": [],
   "source": []
  },
  {
   "cell_type": "code",
   "execution_count": null,
   "metadata": {
    "collapsed": true
   },
   "outputs": [],
   "source": []
  },
  {
   "cell_type": "code",
   "execution_count": null,
   "metadata": {
    "collapsed": true
   },
   "outputs": [],
   "source": []
  },
  {
   "cell_type": "code",
   "execution_count": null,
   "metadata": {
    "collapsed": true
   },
   "outputs": [],
   "source": []
  },
  {
   "cell_type": "code",
   "execution_count": null,
   "metadata": {
    "collapsed": true
   },
   "outputs": [],
   "source": []
  }
 ],
 "metadata": {
  "celltoolbar": "Raw Cell Format",
  "kernelspec": {
   "display_name": "Python 3",
   "language": "python",
   "name": "python3"
  },
  "language_info": {
   "codemirror_mode": {
    "name": "ipython",
    "version": 3
   },
   "file_extension": ".py",
   "mimetype": "text/x-python",
   "name": "python",
   "nbconvert_exporter": "python",
   "pygments_lexer": "ipython3",
   "version": "3.6.4"
  }
 },
 "nbformat": 4,
 "nbformat_minor": 0
}
